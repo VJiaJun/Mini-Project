{
 "cells": [
  {
   "cell_type": "code",
   "execution_count": 4,
   "id": "b8985e55",
   "metadata": {
    "scrolled": true
   },
   "outputs": [
    {
     "name": "stdout",
     "output_type": "stream",
     "text": [
      "Collecting opencv-contrib-python\n",
      "  Downloading opencv_contrib_python-4.6.0.66-cp36-abi3-win_amd64.whl (42.5 MB)\n",
      "     ---------------------------------------- 42.5/42.5 MB 7.4 MB/s eta 0:00:00\n",
      "Collecting numpy>=1.19.3\n",
      "  Downloading numpy-1.23.1-cp310-cp310-win_amd64.whl (14.6 MB)\n",
      "     ---------------------------------------- 14.6/14.6 MB 9.5 MB/s eta 0:00:00\n",
      "Installing collected packages: numpy, opencv-contrib-python\n",
      "Successfully installed numpy-1.23.1 opencv-contrib-python-4.6.0.66\n",
      "Note: you may need to restart the kernel to use updated packages.\n"
     ]
    },
    {
     "name": "stderr",
     "output_type": "stream",
     "text": [
      "WARNING: You are using pip version 22.0.4; however, version 22.1.2 is available.\n",
      "You should consider upgrading via the 'C:\\Users\\User\\AppData\\Local\\Programs\\Python\\Python310\\python.exe -m pip install --upgrade pip' command.\n"
     ]
    }
   ],
   "source": [
    "pip install opencv-contrib-python"
   ]
  },
  {
   "cell_type": "code",
   "execution_count": 1,
   "id": "f06cf6f9",
   "metadata": {},
   "outputs": [
    {
     "data": {
      "text/plain": [
       "True"
      ]
     },
     "execution_count": 1,
     "metadata": {},
     "output_type": "execute_result"
    }
   ],
   "source": [
    "import sys\n",
    "# Python 3.7 is required\n",
    "assert sys.version_info >= (3,7)\n",
    "\n",
    "import cv2 as cv\n",
    "import numpy as np\n",
    "\n",
    "# For reproducibility,\n",
    "np.random.seed(99)\n",
    "\n",
    "# Make sure that optimization is enabled\n",
    "if not cv.useOptimized():\n",
    "    cv.setUseOptimized(True)\n",
    "\n",
    "cv.useOptimized()"
   ]
  },
  {
   "cell_type": "markdown",
   "id": "0a1297d3",
   "metadata": {},
   "source": [
    "# Activity 1\n"
   ]
  },
  {
   "cell_type": "code",
   "execution_count": 2,
   "id": "96f8c0fc",
   "metadata": {},
   "outputs": [],
   "source": [
    "image = cv.imread('dog.jfif')\n",
    "grey = cv.cvtColor(image, cv.COLOR_BGR2GRAY)\n",
    "\n",
    "cv.imshow('Original image',image)\n",
    "cv.imshow('Grey image', grey)\n",
    "\n",
    "cv.waitKey(0)\n",
    "cv.destroyAllWindows()"
   ]
  },
  {
   "cell_type": "code",
   "execution_count": 3,
   "id": "0c4d361d",
   "metadata": {},
   "outputs": [],
   "source": [
    "image = cv.imread('dog.jfif')\n",
    "grey = cv.imread(\"dog.jfif\",0)\n",
    "\n",
    "cv.imshow('Original image',image)\n",
    "cv.imshow(\"Grayscale Image\", grey)\n",
    "\n",
    "\n",
    "cv.waitKey(0)\n",
    "cv.destroyAllWindows()"
   ]
  },
  {
   "cell_type": "markdown",
   "id": "d7ea65a7",
   "metadata": {},
   "source": [
    "# Activity 2\n"
   ]
  },
  {
   "cell_type": "code",
   "execution_count": 4,
   "id": "93fd6cb6",
   "metadata": {},
   "outputs": [],
   "source": [
    "import cv2\n",
    "# This will return video from the first webcam on your computer.\n",
    "cap = cv.VideoCapture('img_pexels.mp4')\n",
    "  \n",
    "# Define the codec and create VideoWriter object\n",
    "fourcc = cv2.VideoWriter_fourcc(*'XVID')\n",
    "out = cv2.VideoWriter('smaller_img_pexels.avi', fourcc, 20.0, (640, 480))\n",
    "\n",
    "if not cap.isOpened():\n",
    "    print(\"Unable to create video\")\n",
    "\n",
    "# Read until the video is completed.\n",
    "while cap.isOpened():\n",
    "    ret, frame = cap.read()\n",
    "    \n",
    "    # if frame is read then ret is True\n",
    "    if not ret:\n",
    "        print(\"Can't receive frame.\")\n",
    "        break\n",
    "    \n",
    "    #to fit it inside one screen\n",
    "    cv.namedWindow('frame', cv.WINDOW_NORMAL)\n",
    "    frame = cv.resize(frame,(20,30))\n",
    "    cv.imshow('frame', frame)\n",
    "    \n",
    "    # output the frame\n",
    "    out.write(frame)\n",
    "    \n",
    "    # Press Esc key to exit (27 is ASCII code for Esc). cv.waitKey() returns 32 bit integer values. You can find the ASCII table\n",
    "    # on this URL: https://theasciicode.com.ar/\n",
    "    if cv.waitKey(1) & 0xFF == 27:\n",
    "        break\n",
    "\n",
    "# destroy the constructor\n",
    "cap.release()\n",
    "cv.destroyAllWindows()"
   ]
  },
  {
   "cell_type": "markdown",
   "id": "743d5a5c",
   "metadata": {},
   "source": [
    "# Activity 3.1"
   ]
  },
  {
   "cell_type": "code",
   "execution_count": 5,
   "id": "c293ae2d",
   "metadata": {},
   "outputs": [],
   "source": [
    "# load image and get dimensions\n",
    "img = cv.imread('lena.jfif')\n",
    "hh, ww = img.shape[:2]\n",
    "\n",
    "# create noise image (multiplier increase noise in result)\n",
    "noise = (800*np.random.random((hh,ww))).clip(0,200).astype(np.uint8)\n",
    "\n",
    "# make black image\n",
    "black = np.full_like(img, (25,0,0))\n",
    "\n",
    "# combine img and black noise using noise as mask\n",
    "img_masked = cv.bitwise_and(img, img, mask=200-noise)\n",
    "black_masked = cv.bitwise_and(black, black, mask=noise)\n",
    "result1 = cv.add(img_masked, black_masked)\n",
    "\n",
    "# display the noise image\n",
    "cv.imshow(\"Colour Noise\", result1)\n",
    "result2 = cv.cvtColor(result1, cv.COLOR_BGR2GRAY)\n",
    "cv.imshow(\"Grey Noise\", result2)\n",
    "cv.waitKey(0)\n",
    "cv.destroyAllWindows()"
   ]
  },
  {
   "cell_type": "markdown",
   "id": "a4bbd55c",
   "metadata": {},
   "source": [
    "# Activity 3.2"
   ]
  },
  {
   "cell_type": "code",
   "execution_count": 6,
   "id": "8577c620",
   "metadata": {},
   "outputs": [],
   "source": [
    "img = cv.imread('flower.jfif')\n",
    "\n",
    "img.shape\n",
    "\n",
    "# range for height (40, 120) / for width (80 , 200)\n",
    "flower = img[40:120, 85:175]\n",
    "\n",
    "\n",
    "cv.imshow('flower', flower)\n",
    "cv.waitKey(0)\n",
    "cv.destroyAllWindows()"
   ]
  },
  {
   "cell_type": "markdown",
   "id": "e20dc375",
   "metadata": {},
   "source": [
    "# Activity 3.3\n"
   ]
  },
  {
   "cell_type": "code",
   "execution_count": 7,
   "id": "1950a637",
   "metadata": {},
   "outputs": [],
   "source": [
    "img = cv.imread('dog.jfif')\n",
    "\n",
    "img_linear = cv.resize(img, None, fx = 2, fy = 2, interpolation = cv.INTER_LINEAR)\n",
    "\n",
    "img_cubic = cv.resize(img, None, fx = 2, fy = 2, interpolation = cv.INTER_CUBIC)\n",
    "\n",
    "img_nearest = cv.resize(img, None, fx = 2, fy = 2, interpolation = cv.INTER_NEAREST)\n",
    "\n",
    "cv.imshow('Linear' , img_linear)\n",
    "cv.imshow('Cubic' , img_cubic)\n",
    "cv.imshow('Nearest', img_nearest)\n",
    "cv.waitKey(0)\n",
    "cv.destroyAllWindows()"
   ]
  }
 ],
 "metadata": {
  "kernelspec": {
   "display_name": "Python 3 (ipykernel)",
   "language": "python",
   "name": "python3"
  },
  "language_info": {
   "codemirror_mode": {
    "name": "ipython",
    "version": 3
   },
   "file_extension": ".py",
   "mimetype": "text/x-python",
   "name": "python",
   "nbconvert_exporter": "python",
   "pygments_lexer": "ipython3",
   "version": "3.10.5"
  }
 },
 "nbformat": 4,
 "nbformat_minor": 5
}
